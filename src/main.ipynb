{
 "cells": [
  {
   "cell_type": "code",
   "execution_count": 1,
   "metadata": {},
   "outputs": [
    {
     "output_type": "stream",
     "name": "stdout",
     "text": [
      "Hello world\n"
     ]
    }
   ],
   "source": [
    "print(\"Hello world\")"
   ]
  },
  {
   "cell_type": "code",
   "execution_count": null,
   "metadata": {},
   "outputs": [],
   "source": []
  }
 ],
 "metadata": {
  "kernelspec": {
   "name": "python3",
   "display_name": "Python 3.8.6 64-bit ('titanicLesson': pipenv)",
   "metadata": {
    "interpreter": {
     "hash": "6af0134fb1c9a4e85d86aa0e4a7e09e393af3fcf843049ffda57406e39d41dec"
    }
   }
  }
 },
 "nbformat": 4,
 "nbformat_minor": 4
}